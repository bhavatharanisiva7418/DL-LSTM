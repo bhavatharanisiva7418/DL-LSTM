{
 "cells": [
  {
   "cell_type": "code",
   "execution_count": 1,
   "id": "044fe6d9-4f3e-41b8-b44e-b31bc64d2e12",
   "metadata": {},
   "outputs": [],
   "source": [
    "import pandas as pd\n",
    "import torch\n",
    "import torch.nn as nn\n",
    "import numpy as np\n",
    "import matplotlib.pyplot as plt\n",
    "from torch.utils.data import Dataset, DataLoader\n",
    "from torch.nn.utils.rnn import pad_sequence\n",
    "import warnings\n",
    "warnings.filterwarnings(\"ignore\", category=DeprecationWarning)"
   ]
  },
  {
   "cell_type": "code",
   "execution_count": null,
   "id": "ea329be9-fa3f-4660-92e7-4276d121ca4c",
   "metadata": {},
   "outputs": [],
   "source": [
    "## NAME:BHAVATHARANI S\n",
    "## Reg No:212223230032"
   ]
  },
  {
   "cell_type": "code",
   "execution_count": 2,
   "id": "b6090c61-d283-4647-8cb6-24f41b898adc",
   "metadata": {},
   "outputs": [
    {
     "name": "stdout",
     "output_type": "stream",
     "text": [
      "Using device: cuda\n"
     ]
    }
   ],
   "source": [
    "device = torch.device('cuda' if torch.cuda.is_available() else 'cpu')\n",
    "print(f\"Using device: {device}\")"
   ]
  },
  {
   "cell_type": "code",
   "execution_count": 3,
   "id": "bce63064-7720-4e22-a977-28c4de20ee5c",
   "metadata": {},
   "outputs": [],
   "source": [
    "data = pd.read_csv(r\"C:\\Users\\admin\\Downloads\\ner_dataset.csv\", encoding=\"latin1\").ffill()"
   ]
  },
  {
   "cell_type": "code",
   "execution_count": 4,
   "id": "07e7a047-2603-4d45-88fc-31ea31676364",
   "metadata": {},
   "outputs": [],
   "source": [
    "words = list(data[\"Word\"].unique())\n",
    "tags = list(data[\"Tag\"].unique())\n",
    "\n",
    "if \"ENDPAD\" not in words:\n",
    "    words.append(\"ENDPAD\")\n",
    "\n",
    "if \"PAD\" not in tags:\n",
    "    tags.append(\"PAD\")\n",
    "\n",
    "if \"O\" not in tags:\n",
    "    print(\"Warning: 'O' tag not present in dataset. Continuing without it.\")"
   ]
  },
  {
   "cell_type": "code",
   "execution_count": null,
   "id": "0bd83a60-aa7a-4b21-84bd-5da7c0a3b70d",
   "metadata": {},
   "outputs": [],
   "source": [
    "## NAME:BHAVATHARANI S\n",
    "## Reg No:212223230032"
   ]
  },
  {
   "cell_type": "code",
   "execution_count": 5,
   "id": "5bee7cab-de54-48c6-a8ad-a3c2146f66a0",
   "metadata": {},
   "outputs": [],
   "source": [
    "word2idx = {w: i + 1 for i, w in enumerate(words)}  \n",
    "tag2idx = {t: i for i, t in enumerate(tags)}       \n",
    "idx2tag = {i: t for t, i in tag2idx.items()}"
   ]
  },
  {
   "cell_type": "code",
   "execution_count": 6,
   "id": "ef534e05-4bc5-4c16-a2dd-e77d6edbc0ee",
   "metadata": {},
   "outputs": [
    {
     "name": "stdout",
     "output_type": "stream",
     "text": [
      "Unique words in corpus: 35177\n",
      "Unique tags in corpus: 17\n",
      "All tags (including PAD): ['O', 'B-geo', 'B-gpe', 'B-per', 'I-geo', 'B-org', 'I-org', 'B-tim', 'B-art', 'I-art', 'I-per', 'I-gpe', 'I-tim', 'B-nat', 'B-eve', 'I-eve', 'I-nat', 'PAD']\n"
     ]
    }
   ],
   "source": [
    "print(\"Unique words in corpus:\", data['Word'].nunique())\n",
    "print(\"Unique tags in corpus:\", data['Tag'].nunique())\n",
    "print(\"All tags (including PAD):\", tags)"
   ]
  },
  {
   "cell_type": "code",
   "execution_count": 7,
   "id": "0caa0053-f1eb-4084-932e-e6bd102d2ad4",
   "metadata": {},
   "outputs": [
    {
     "name": "stdout",
     "output_type": "stream",
     "text": [
      "Example sentence (index 0): [('Thousands', 'O'), ('of', 'O'), ('demonstrators', 'O'), ('have', 'O'), ('marched', 'O'), ('through', 'O'), ('London', 'B-geo'), ('to', 'O'), ('protest', 'O'), ('the', 'O'), ('war', 'O'), ('in', 'O'), ('Iraq', 'B-geo'), ('and', 'O'), ('demand', 'O'), ('the', 'O'), ('withdrawal', 'O'), ('of', 'O'), ('British', 'B-gpe'), ('troops', 'O'), ('from', 'O'), ('that', 'O'), ('country', 'O'), ('.', 'O')]\n"
     ]
    },
    {
     "name": "stderr",
     "output_type": "stream",
     "text": [
      "C:\\Users\\admin\\AppData\\Local\\Temp\\ipykernel_23480\\3388924487.py:4: FutureWarning: DataFrameGroupBy.apply operated on the grouping columns. This behavior is deprecated, and in a future version of pandas the grouping columns will be excluded from the operation. Either pass `include_groups=False` to exclude the groupings or explicitly select the grouping columns after groupby to silence this warning.\n",
      "  grouped = data.groupby(\"Sentence #\", group_keys=False).apply(\n"
     ]
    }
   ],
   "source": [
    "class SentenceGetter:\n",
    "    def __init__(self, data):\n",
    "       \n",
    "        grouped = data.groupby(\"Sentence #\", group_keys=False).apply(\n",
    "            lambda s: [(w, t) for w, t in zip(s[\"Word\"], s[\"Tag\"])]\n",
    "        )\n",
    "        self.sentences = list(grouped)\n",
    "\n",
    "getter = SentenceGetter(data)\n",
    "sentences = getter.sentences\n",
    "print(\"Example sentence (index 0):\", sentences[0])"
   ]
  },
  {
   "cell_type": "code",
   "execution_count": 8,
   "id": "76f95a70-0eff-495b-ae97-5f58d4aa508e",
   "metadata": {},
   "outputs": [],
   "source": [
    "X = [[word2idx[w] for w, t in s] for s in sentences]\n",
    "y = [[tag2idx[t] for w, t in s] for s in sentences]"
   ]
  },
  {
   "cell_type": "code",
   "execution_count": 9,
   "id": "cfa75454-f2b5-470b-8425-ce6802f7be78",
   "metadata": {},
   "outputs": [
    {
     "data": {
      "image/png": "[encoded data removed]",
      "text/plain": [
       "<Figure size 640x480 with 1 Axes>"
      ]
     },
     "metadata": {},
     "output_type": "display_data"
    }
   ],
   "source": [
    "plt.hist([len(s) for s in sentences], bins=50)\n",
    "plt.title(\"Sentence length distribution\")\n",
    "plt.xlabel(\"Length\")\n",
    "plt.ylabel(\"Count\")\n",
    "plt.show()"
   ]
  },
  {
   "cell_type": "code",
   "execution_count": null,
   "id": "4ae8d09d-d0ca-49e6-acbc-c80350718612",
   "metadata": {},
   "outputs": [],
   "source": [
    "## NAME:BHAVATHARANI S\n",
    "## Reg No:212223230032"
   ]
  },
  {
   "cell_type": "code",
   "execution_count": 10,
   "id": "14a7f1da-f765-45b8-9766-81d9c3615e45",
   "metadata": {},
   "outputs": [],
   "source": [
    "max_len = 50\n",
    "\n",
    "X_tensors = [torch.tensor(seq, dtype=torch.long) for seq in X]\n",
    "y_tensors = [torch.tensor(seq, dtype=torch.long) for seq in y]\n",
    "\n",
    "pad_input_value = word2idx[\"ENDPAD\"]                   \n",
    "pad_label_value = tag2idx[\"PAD\"]           "
   ]
  },
  {
   "cell_type": "code",
   "execution_count": 11,
   "id": "7b6aebc2-0e41-4b8e-9faf-c65492ec9500",
   "metadata": {},
   "outputs": [],
   "source": [
    "X_pad = pad_sequence(X_tensors, batch_first=True, padding_value=pad_input_value)\n",
    "y_pad = pad_sequence(y_tensors, batch_first=True, padding_value=pad_label_value)\n"
   ]
  },
  {
   "cell_type": "code",
   "execution_count": 12,
   "id": "909a9971-a020-4420-88cc-a2632017d6d3",
   "metadata": {},
   "outputs": [
    {
     "name": "stdout",
     "output_type": "stream",
     "text": [
      "X_pad shape: torch.Size([47959, 50])\n",
      "y_pad shape: torch.Size([47959, 50])\n"
     ]
    }
   ],
   "source": [
    "if X_pad.size(1) < max_len:\n",
    "\n",
    "    pad_amt = max_len - X_pad.size(1)\n",
    "    X_pad = torch.cat([X_pad, torch.full((X_pad.size(0), pad_amt), pad_input_value, dtype=torch.long)], dim=1)\n",
    "    y_pad = torch.cat([y_pad, torch.full((y_pad.size(0), pad_amt), pad_label_value, dtype=torch.long)], dim=1)\n",
    "else:\n",
    "    X_pad = X_pad[:, :max_len]\n",
    "    y_pad = y_pad[:, :max_len]\n",
    "\n",
    "print(\"X_pad shape:\", X_pad.shape)\n",
    "print(\"y_pad shape:\", y_pad.shape)"
   ]
  },
  {
   "cell_type": "code",
   "execution_count": 13,
   "id": "f05cc081-f98f-47da-92c5-c10a70e92494",
   "metadata": {},
   "outputs": [],
   "source": [
    "dataset_size = X_pad.size(0)\n",
    "perm = torch.randperm(dataset_size)\n",
    "train_size = int(0.8 * dataset_size)\n",
    "train_idx = perm[:train_size]\n",
    "test_idx = perm[train_size:]\n",
    "\n",
    "X_train = X_pad[train_idx]\n",
    "y_train = y_pad[train_idx]\n",
    "X_test = X_pad[test_idx]\n",
    "y_test = y_pad[test_idx]"
   ]
  },
  {
   "cell_type": "code",
   "execution_count": null,
   "id": "3176b848-c91d-4024-af37-f20c3ab3814a",
   "metadata": {},
   "outputs": [],
   "source": [
    "## NAME:BHAVATHARANI S\n",
    "## Reg No:212223230032"
   ]
  },
  {
   "cell_type": "code",
   "execution_count": 14,
   "id": "a2d81dc9-ff8e-4ea7-8c0c-57ad7bd43092",
   "metadata": {},
   "outputs": [],
   "source": [
    "class NERDataset(Dataset):\n",
    "    def __init__(self, X, y):\n",
    "        self.X = X\n",
    "        self.y = y\n",
    "    def __len__(self):\n",
    "        return len(self.X)\n",
    "    def __getitem__(self, idx):\n",
    "        return {\n",
    "            \"input_ids\": self.X[idx],\n",
    "            \"labels\": self.y[idx]\n",
    "        }\n"
   ]
  },
  {
   "cell_type": "code",
   "execution_count": 15,
   "id": "10a15c9d-cad0-42f4-9fa6-3dff6a562f83",
   "metadata": {},
   "outputs": [],
   "source": [
    "train_loader = DataLoader(NERDataset(X_train, y_train), batch_size=32, shuffle=True)\n",
    "test_loader = DataLoader(NERDataset(X_test, y_test), batch_size=32, shuffle=False)"
   ]
  },
  {
   "cell_type": "code",
   "execution_count": 16,
   "id": "929d4dd3-4077-4d43-beaf-819e050c6e03",
   "metadata": {},
   "outputs": [],
   "source": [
    "class BiLSTMTagger(nn.Module):\n",
    "    def __init__(self, vocab_size, tagset_size, embedding_dim=50, hidden_dim=100, dropout=0.1):\n",
    "        super(BiLSTMTagger, self).__init__()\n",
    "        self.embedding = nn.Embedding(vocab_size, embedding_dim, padding_idx=0)\n",
    "        self.dropout = nn.Dropout(dropout)\n",
    "        self.lstm = nn.LSTM(embedding_dim, hidden_dim, batch_first=True, bidirectional=True)\n",
    "        self.fc = nn.Linear(hidden_dim * 2, tagset_size)\n",
    "\n",
    "    def forward(self, x):\n",
    "        x = self.embedding(x)           \n",
    "        x = self.dropout(x)\n",
    "        x, _ = self.lstm(x)         \n",
    "        out = self.fc(x)     \n",
    "        return out"
   ]
  },
  {
   "cell_type": "code",
   "execution_count": 17,
   "id": "58a9558e-27ac-4ddf-8ee9-86e29e58ebfb",
   "metadata": {},
   "outputs": [],
   "source": [
    "vocab_size = len(word2idx) + 1   \n",
    "tagset_size = len(tag2idx)\n",
    "\n",
    "model = BiLSTMTagger(vocab_size=vocab_size, tagset_size=tagset_size).to(device)\n",
    "\n",
    "loss_fn = nn.CrossEntropyLoss(ignore_index=pad_label_value)\n",
    "optimizer = torch.optim.Adam(model.parameters(), lr=0.001)"
   ]
  },
  {
   "cell_type": "code",
   "execution_count": 18,
   "id": "321307fb-4d5a-46d0-a692-68a3973e763c",
   "metadata": {},
   "outputs": [],
   "source": [
    "\n",
    "def train_model(model, train_loader, val_loader, loss_fn, optimizer, epochs=3):\n",
    "    train_losses, val_losses = [], []\n",
    "    for epoch in range(epochs):\n",
    "        model.train()\n",
    "        total_loss = 0.0\n",
    "        for batch in train_loader:\n",
    "            input_ids = batch[\"input_ids\"].to(device)\n",
    "            labels = batch[\"labels\"].to(device)  # shape (batch, seq_len)\n",
    "            optimizer.zero_grad()\n",
    "            outputs = model(input_ids)          \n",
    "            loss = loss_fn(outputs.view(-1, tagset_size), labels.view(-1))\n",
    "            loss.backward()\n",
    "            optimizer.step()\n",
    "            total_loss += loss.item()\n",
    "\n",
    "        # validation\n",
    "        model.eval()\n",
    "        val_loss = 0.0\n",
    "        with torch.no_grad():\n",
    "            for batch in val_loader:\n",
    "                input_ids = batch[\"input_ids\"].to(device)\n",
    "                labels = batch[\"labels\"].to(device)\n",
    "                outputs = model(input_ids)\n",
    "                loss = loss_fn(outputs.view(-1, tagset_size), labels.view(-1))\n",
    "                val_loss += loss.item()\n",
    "\n",
    "        train_losses.append(total_loss)\n",
    "        val_losses.append(val_loss)\n",
    "        print(f\"Epoch {epoch+1}/{epochs} — Train Loss: {total_loss:.4f} — Val Loss: {val_loss:.4f}\")\n",
    "\n",
    "    return train_losses, val_losses\n"
   ]
  },
  {
   "cell_type": "code",
   "execution_count": 19,
   "id": "ee8793b0-0676-4634-b80b-24e866eed264",
   "metadata": {},
   "outputs": [
    {
     "name": "stdout",
     "output_type": "stream",
     "text": [
      "Epoch 1/3 — Train Loss: 507.2712 — Val Loss: 67.5759\n",
      "Epoch 2/3 — Train Loss: 233.5513 — Val Loss: 49.3822\n",
      "Epoch 3/3 — Train Loss: 175.9032 — Val Loss: 42.4179\n",
      "\n",
      "Classification Report (ignoring PAD):\n",
      "              precision    recall  f1-score   support\n",
      "\n",
      "       B-art       0.00      0.00      0.00        80\n",
      "       B-eve       0.82      0.30      0.43        61\n",
      "       B-geo       0.82      0.86      0.84      7521\n",
      "       B-gpe       0.94      0.89      0.91      3125\n",
      "       B-nat       0.50      0.02      0.04        45\n",
      "       B-org       0.76      0.63      0.69      4129\n",
      "       B-per       0.82      0.70      0.76      3312\n",
      "       B-tim       0.92      0.82      0.87      4035\n",
      "       I-art       0.00      0.00      0.00        55\n",
      "       I-eve       0.00      0.00      0.00        45\n",
      "       I-geo       0.76      0.74      0.75      1465\n",
      "       I-gpe       1.00      0.33      0.50        45\n",
      "       I-nat       0.00      0.00      0.00        14\n",
      "       I-org       0.75      0.69      0.72      3353\n",
      "       I-per       0.83      0.83      0.83      3371\n",
      "       I-tim       0.80      0.72      0.76      1255\n",
      "           O       0.98      0.99      0.99    177916\n",
      "\n",
      "    accuracy                           0.96    209827\n",
      "   macro avg       0.63      0.50      0.53    209827\n",
      "weighted avg       0.96      0.96      0.96    209827\n",
      "\n"
     ]
    }
   ],
   "source": [
    "def evaluate_model(model, test_loader):\n",
    "    model.eval()\n",
    "    true_tags, pred_tags = [], []\n",
    "    with torch.no_grad():\n",
    "        for batch in test_loader:\n",
    "            input_ids = batch[\"input_ids\"].to(device)\n",
    "            labels = batch[\"labels\"].to(device)\n",
    "            outputs = model(input_ids)\n",
    "            preds = torch.argmax(outputs, dim=-1)\n",
    "            for i in range(labels.size(0)):\n",
    "                for j in range(labels.size(1)):\n",
    "                    lab = labels[i, j].item()\n",
    "                    if lab != pad_label_value: \n",
    "                        true_tags.append(idx2tag[lab])\n",
    "                        pred_tags.append(idx2tag[preds[i, j].item()])\n",
    "    return true_tags, pred_tags\n",
    "\n",
    "train_losses, val_losses = train_model(model, train_loader, test_loader, loss_fn, optimizer, epochs=3)\n",
    "true_tags, pred_tags = evaluate_model(model, test_loader)\n",
    "\n",
    "try:\n",
    "    from sklearn.metrics import classification_report\n",
    "    print(\"\\nClassification Report (ignoring PAD):\")\n",
    "    print(classification_report(true_tags, pred_tags, zero_division=0))\n",
    "except Exception as e:\n",
    "    print(\"sklearn not available or other error while creating classification report:\", e)"
   ]
  },
  {
   "cell_type": "code",
   "execution_count": null,
   "id": "1c841b1e-cf22-4800-8e9f-694d447e87a9",
   "metadata": {},
   "outputs": [],
   "source": [
    "## NAME:BHAVATHARANI S\n",
    "## Reg No:212223230032"
   ]
  },
  {
   "cell_type": "code",
   "execution_count": 20,
   "id": "e797a30b-0131-4e4f-8f4c-2bd0d2e1532d",
   "metadata": {},
   "outputs": [
    {
     "data": {
      "image/png": "[encoded data removed]",
      "text/plain": [
       "<Figure size 640x480 with 1 Axes>"
      ]
     },
     "metadata": {},
     "output_type": "display_data"
    }
   ],
   "source": [
    "history_df = pd.DataFrame({\"loss\": train_losses, \"val_loss\": val_losses})\n",
    "history_df.plot(title=\"Loss Over Epochs\")\n",
    "plt.xlabel(\"Epoch\")\n",
    "plt.ylabel(\"Loss\")\n",
    "plt.grid(True)\n",
    "plt.show()\n"
   ]
  },
  {
   "cell_type": "code",
   "execution_count": 21,
   "id": "09ca1518-6393-4b65-8712-9c6dfcc0dcda",
   "metadata": {},
   "outputs": [
    {
     "name": "stdout",
     "output_type": "stream",
     "text": [
      "Word            True         Pred\n",
      "------------------------------------------\n",
      "A               O            O\n",
      "U.S.            B-geo        B-geo\n",
      "congressional   O            O\n",
      "committee       O            O\n",
      "will            O            O\n",
      "hold            O            O\n",
      "a               O            O\n",
      "hearing         O            O\n",
      "next            O            O\n",
      "week            O            O\n",
      "on              O            O\n",
      "ethical         O            O\n",
      "responsibilities O            O\n",
      "of              O            O\n",
      "Internet        O            O\n",
      "companies       O            O\n",
      ".               O            O\n"
     ]
    }
   ],
   "source": [
    "sample_idx = 0\n",
    "if sample_idx < len(X_test):\n",
    "    model.eval()\n",
    "    sample = X_test[sample_idx].unsqueeze(0).to(device)\n",
    "    with torch.no_grad():\n",
    "        output = model(sample)\n",
    "        preds = torch.argmax(output, dim=-1).squeeze().cpu().numpy()\n",
    "    true = y_test[sample_idx].numpy()\n",
    "    print(\"{:<15} {:<12} {}\".format(\"Word\", \"True\", \"Pred\"))\n",
    "    print(\"-\" * 42)\n",
    "    for w_id, true_tag_idx, pred_tag_idx in zip(X_test[sample_idx], true, preds):\n",
    "        if w_id.item() != pad_input_value:  \n",
    "            word = words[w_id.item() - 1]   \n",
    "            true_label = idx2tag[int(true_tag_idx)]\n",
    "            pred_label = idx2tag[int(pred_tag_idx)]\n",
    "            print(f\"{word: <15} {true_label: <12} {pred_label}\")\n",
    "else:\n",
    "    print(\"sample_idx out of range for X_test\")"
   ]
  },
  {
   "cell_type": "code",
   "execution_count": null,
   "id": "f8ad64e3-309c-4db9-b506-0a58255342ac",
   "metadata": {},
   "outputs": [],
   "source": []
  }
 ],
 "metadata": {
  "kernelspec": {
   "display_name": "Python 3 (ipykernel)",
   "language": "python",
   "name": "python3"
  },
  "language_info": {
   "codemirror_mode": {
    "name": "ipython",
    "version": 3
   },
   "file_extension": ".py",
   "mimetype": "text/x-python",
   "name": "python",
   "nbconvert_exporter": "python",
   "pygments_lexer": "ipython3",
   "version": "3.11.13"
  }
 },
 "nbformat": 4,
 "nbformat_minor": 5
}
